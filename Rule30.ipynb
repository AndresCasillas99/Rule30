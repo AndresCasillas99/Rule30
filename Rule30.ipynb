{
 "cells": [
  {
   "cell_type": "markdown",
   "id": "latest-password",
   "metadata": {},
   "source": [
    "## Index type format"
   ]
  },
  {
   "cell_type": "code",
   "execution_count": 1,
   "id": "acting-cause",
   "metadata": {},
   "outputs": [
    {
     "data": {
      "text/plain": [
       "R30 (generic function with 1 method)"
      ]
     },
     "execution_count": 1,
     "metadata": {},
     "output_type": "execute_result"
    }
   ],
   "source": [
    "col_index = [0,1,2,4,5,8] #array of indices where the 1's will be placed. We usually want col_index = [0].\n",
    "\n",
    "function evolve_R30!(col_index) \n",
    "    counter_ones = 0\n",
    "    scanner_index = col_index[1]\n",
    "    col_index_temp = []\n",
    "    while scanner_index <= col_index[length(col_index)]\n",
    "        if length(col_index) == 1 #1 element array\n",
    "            push!(col_index_temp, col_index[1]-1, col_index[1], col_index[1]+1)\n",
    "            col_index = sort(col_index_temp;alg=QuickSort)\n",
    "            break\n",
    "        else\n",
    "            if scanner_index == col_index[1] #We are scanning the first but not the last \n",
    "                push!(col_index_temp, col_index[1]-1, col_index[1])\n",
    "                scanner_index += 1\n",
    "                counter_ones += 1\n",
    "            else\n",
    "                if scanner_index == col_index[length(col_index)] #We are scanning the last but not the first\n",
    "                    push!(col_index_temp, col_index[length(col_index)] + 1)\n",
    "                    if col_index[length(col_index)] - col_index[length(col_index) - 1] == 1\n",
    "                    else\n",
    "                        push!(col_index_temp, col_index[length(col_index)])\n",
    "                    end\n",
    "                    counter_ones += 1\n",
    "                    col_index = sort(col_index_temp;alg=QuickSort)\n",
    "                    break\n",
    "                else #general case\n",
    "                    if col_index[counter_ones + 1] == scanner_index #caso x1x\n",
    "                        if col_index[counter_ones + 1] - col_index[counter_ones] == 1 #11x\n",
    "                        else #01x\n",
    "                            push!(col_index_temp, scanner_index)\n",
    "                        end\n",
    "                        counter_ones += 1\n",
    "                        scanner_index += 1\n",
    "                    else #caso x0x\n",
    "                        if scanner_index - col_index[counter_ones] == 1 #caso 10x\n",
    "                            if col_index[counter_ones + 1] - scanner_index == 1 #caso 101\n",
    "                            else #caso 100\n",
    "                                push!(col_index_temp, scanner_index)\n",
    "                            end\n",
    "                            scanner_index += 1\n",
    "                        else #caso 00x\n",
    "                            if col_index[counter_ones + 1] - scanner_index == 1 #caso 001\n",
    "                                push!(col_index_temp, scanner_index)\n",
    "                            end\n",
    "                            scanner_index += 1\n",
    "                        end \n",
    "                    end    \n",
    "                end\n",
    "            end\n",
    "        end\n",
    "    end\n",
    "    return col_index\n",
    "end\n",
    "\n",
    "function R30(steps, initial_condition) #steps >= 1\n",
    "    output = []\n",
    "    for i in 0:(steps - 1)       \n",
    "        output = evolve_R30!(initial_condition)\n",
    "        initial_condition = output\n",
    "    end\n",
    "    return output\n",
    "end"
   ]
  },
  {
   "cell_type": "markdown",
   "id": "adjustable-sucking",
   "metadata": {},
   "source": [
    "# One example"
   ]
  },
  {
   "cell_type": "code",
   "execution_count": 5,
   "id": "metallic-scope",
   "metadata": {},
   "outputs": [
    {
     "data": {
      "text/plain": [
       "43-element Vector{Any}:\n",
       " -50\n",
       " -49\n",
       " -46\n",
       " -41\n",
       " -39\n",
       " -38\n",
       " -37\n",
       " -34\n",
       " -32\n",
       " -31\n",
       " -29\n",
       " -27\n",
       " -24\n",
       "   ⋮\n",
       "  28\n",
       "  29\n",
       "  31\n",
       "  32\n",
       "  33\n",
       "  38\n",
       "  40\n",
       "  42\n",
       "  43\n",
       "  46\n",
       "  47\n",
       "  50"
      ]
     },
     "execution_count": 5,
     "metadata": {},
     "output_type": "execute_result"
    }
   ],
   "source": [
    "#initial_condition is an array of indexes with the columns of value 1\n",
    "\n",
    "R30(50,[0]) #50'th row on Rule30 codified by the indices of the columns with value 1\n"
   ]
  },
  {
   "cell_type": "markdown",
   "id": "anonymous-orange",
   "metadata": {},
   "source": [
    "# Writing the sequence in an external .txt file"
   ]
  },
  {
   "cell_type": "code",
   "execution_count": 61,
   "id": "psychological-drilling",
   "metadata": {},
   "outputs": [],
   "source": [
    "#Escribir en el documento \".txt\" los valores del centro de la columna 30 continuamente durante d segundos\n",
    "\n",
    "#initial_condition = [0]\n",
    "t = time()\n",
    "d = 3600 #duration in seconds when sleep(1). Else it is much faster.\n",
    "\n",
    "open(\"Rule30CentralColumn_Fast.txt\",\"a\") do io\n",
    "        print(io,1) #imprimir el 1 de la condicion inicial\n",
    "        end\n",
    "\n",
    "while time() < t + d\n",
    "    output = evolve_R30!(initial_condition)\n",
    "    if 0 in output\n",
    "        open(\"Rule30CentralColumn_Fast.txt\",\"a\") do io\n",
    "        print(io,1)\n",
    "        end\n",
    "    else\n",
    "        open(\"Rule30CentralColumn_Fast.txt\",\"a\") do io\n",
    "        print(io,0)\n",
    "        end\n",
    "    end\n",
    "    initial_condition = output\n",
    "    #sleep(1)\n",
    "end\n",
    "\n",
    "\n"
   ]
  },
  {
   "cell_type": "markdown",
   "id": "thirty-guess",
   "metadata": {},
   "source": [
    "# Analyzing the sequence (see script \"Analysis Rule30\")"
   ]
  }
 ],
 "metadata": {
  "kernelspec": {
   "display_name": "Julia 1.7.2",
   "language": "julia",
   "name": "julia-1.7"
  },
  "language_info": {
   "file_extension": ".jl",
   "mimetype": "application/julia",
   "name": "julia",
   "version": "1.7.2"
  }
 },
 "nbformat": 4,
 "nbformat_minor": 5
}
